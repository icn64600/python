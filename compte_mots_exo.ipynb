{
 "cells": [
  {
   "cell_type": "markdown",
   "metadata": {},
   "source": [
    "# Création d'un robot analysant une page internet"
   ]
  },
  {
   "cell_type": "markdown",
   "metadata": {},
   "source": [
    "### rappel de quelques codes de programmation sous python"
   ]
  },
  {
   "cell_type": "raw",
   "metadata": {},
   "source": [
    "déclaration d'une chaine de caractère nommée 'texteanalyse'"
   ]
  },
  {
   "cell_type": "code",
   "execution_count": null,
   "metadata": {},
   "outputs": [],
   "source": [
    "texteanalyse=\"Ceci est un texte que l'on veut analyser. Ce texte va être lu par le robot. Le texte est une chaine de caractères. texte d'un auteur inspiré.\""
   ]
  },
  {
   "cell_type": "raw",
   "metadata": {},
   "source": [
    "convertir la chaine de caractère en une liste nommé 'malistedemot' contenant chaque mot par la fonction texte.split()"
   ]
  },
  {
   "cell_type": "code",
   "execution_count": null,
   "metadata": {},
   "outputs": [],
   "source": [
    "malistedemot=texteanalyse.split()\n",
    "print(malistedemot)"
   ]
  },
  {
   "cell_type": "raw",
   "metadata": {},
   "source": [
    "obtenir le nombre d'éléments d'une liste par la fonction len(liste)"
   ]
  },
  {
   "cell_type": "code",
   "execution_count": null,
   "metadata": {},
   "outputs": [],
   "source": [
    "len(malistedemot)"
   ]
  },
  {
   "cell_type": "raw",
   "metadata": {},
   "source": [
    "obtenir un élément de la liste par son index.( attention le premier élément commence à 0. "
   ]
  },
  {
   "cell_type": "code",
   "execution_count": null,
   "metadata": {},
   "outputs": [],
   "source": [
    "malistedemot[0]"
   ]
  },
  {
   "cell_type": "raw",
   "metadata": {},
   "source": [
    "réaliser une boucle d'opérations: exemple 5 fois écrire 'bonjour' et la valeur de i qui parcourt l'itérable range(5)"
   ]
  },
  {
   "cell_type": "code",
   "execution_count": null,
   "metadata": {},
   "outputs": [],
   "source": []
  },
  {
   "cell_type": "markdown",
   "metadata": {},
   "source": [
    "### Réalisation d'un programme qui compte le nombre de fois qu'un texte contient un mot clé"
   ]
  },
  {
   "cell_type": "raw",
   "metadata": {},
   "source": [
    "Réaliser un programme qui détermine le nombre de fois que contient le mot \"texte\" dans la chaine de caractères 'texteanalyse'"
   ]
  },
  {
   "cell_type": "code",
   "execution_count": null,
   "metadata": {},
   "outputs": [],
   "source": []
  },
  {
   "cell_type": "markdown",
   "metadata": {},
   "source": [
    "### capture du texte html d'un site"
   ]
  },
  {
   "cell_type": "raw",
   "metadata": {},
   "source": [
    "importation de la bibliothèque 'request' qui permet de faire des requetes à partir d'une adresse. On extrait de la capture le texte que l'on met dans la variable textcapture"
   ]
  },
  {
   "cell_type": "code",
   "execution_count": null,
   "metadata": {},
   "outputs": [],
   "source": [
    "import requests\n",
    "capture=requests.get(\"http://ici l'adrese de votre site\")\n",
    "textcapture=capture.text"
   ]
  },
  {
   "cell_type": "markdown",
   "metadata": {},
   "source": [
    "### objectif du projet créer un petit \"spider robot\" qui demanderait un mot clé et un url et qui renverrait le nombre de fois que le mot est écrit dans le site. Tester le robot."
   ]
  },
  {
   "cell_type": "code",
   "execution_count": null,
   "metadata": {},
   "outputs": [],
   "source": []
  }
 ],
 "metadata": {
  "kernelspec": {
   "display_name": "Python 3",
   "language": "python",
   "name": "python3"
  },
  "language_info": {
   "codemirror_mode": {
    "name": "ipython",
    "version": 3
   },
   "file_extension": ".py",
   "mimetype": "text/x-python",
   "name": "python",
   "nbconvert_exporter": "python",
   "pygments_lexer": "ipython3",
   "version": "3.7.3"
  }
 },
 "nbformat": 4,
 "nbformat_minor": 2
}
