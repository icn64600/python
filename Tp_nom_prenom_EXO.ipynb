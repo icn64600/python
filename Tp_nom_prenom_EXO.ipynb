{
 "cells": [
  {
   "cell_type": "markdown",
   "metadata": {},
   "source": [
    "# EXERCICES "
   ]
  },
  {
   "cell_type": "markdown",
   "metadata": {},
   "source": [
    "#### Soit le texte ci-dessous:\n",
    "Il convient d’expliquer avant tout que le Web n’est pas l’Internet, que le Web surfacique n’est pas le Deep Web et encore moins le Dark Web qui est annoncé comme 500 fois plus grand que le web surfacique. Tout se pratiquerait pourtant aujourd’hui chez nos jeunes dans un seul monde, celui d’Internet, des réseaux sociaux et des applications qu’ils considèrent pour la plupart comme la vraie vie, celle collant à leur époque. Les jeunes, s’ils maîtrisent pour la plupart les applications du Web surfacique (Google, Wikipédia, …) tant sur Internet que sur leurs smartphones, n’ont pas forcément la culture du web des profondeurs et n’en mesurent pas non plus les impacts sur leur vie réelle et leur identité à venir."
   ]
  },
  {
   "cell_type": "markdown",
   "metadata": {},
   "source": [
    "#### Afficher le nombre de caractère de ce texte"
   ]
  },
  {
   "cell_type": "code",
   "execution_count": null,
   "metadata": {},
   "outputs": [],
   "source": []
  },
  {
   "cell_type": "markdown",
   "metadata": {},
   "source": [
    "#### Ecrire la phrase \"ce texte contient\" , nombre de caractère du texte, \"caractères\" dans une variable \"montexte\" qui l'on affichera."
   ]
  },
  {
   "cell_type": "code",
   "execution_count": null,
   "metadata": {},
   "outputs": [],
   "source": []
  },
  {
   "cell_type": "markdown",
   "metadata": {},
   "source": [
    "#### Extraire le mot \"Dark Web\" à partir de la position de ces caractères dans le texte ci dessous et l'afficher"
   ]
  },
  {
   "cell_type": "code",
   "execution_count": null,
   "metadata": {},
   "outputs": [],
   "source": []
  },
  {
   "cell_type": "markdown",
   "metadata": {},
   "source": [
    "#### Afficher seulement la première phrase."
   ]
  },
  {
   "cell_type": "code",
   "execution_count": null,
   "metadata": {},
   "outputs": [],
   "source": []
  },
  {
   "cell_type": "markdown",
   "metadata": {},
   "source": [
    "#### Afficher seulement la dernière phrase."
   ]
  },
  {
   "cell_type": "code",
   "execution_count": null,
   "metadata": {},
   "outputs": [],
   "source": []
  },
  {
   "cell_type": "markdown",
   "metadata": {},
   "source": [
    "# Le Spider Robot"
   ]
  },
  {
   "cell_type": "markdown",
   "metadata": {},
   "source": [
    "### Convertir le texte en une liste de mot nommé \"malistedemot\"  et l'afficher"
   ]
  },
  {
   "cell_type": "code",
   "execution_count": null,
   "metadata": {},
   "outputs": [],
   "source": []
  },
  {
   "cell_type": "markdown",
   "metadata": {},
   "source": [
    "### Créer une liste nommée 'listepetitmot' contenant tous les mots de 1 ou 2 caractères"
   ]
  },
  {
   "cell_type": "code",
   "execution_count": null,
   "metadata": {},
   "outputs": [],
   "source": []
  },
  {
   "cell_type": "markdown",
   "metadata": {},
   "source": [
    "### Supprimer de la liste tous les mots de 1 ou 2 caractères"
   ]
  },
  {
   "cell_type": "code",
   "execution_count": null,
   "metadata": {},
   "outputs": [],
   "source": [
    "# élimination de la liste de tous les éléments contenus dans la liste 'listepetitmot'\n",
    "for i in listepetitmot:\n",
    "    while i in malistedemot:\n",
    "        malistedemot.remove(i)\n",
    "      \n",
    "print(malistedemot)"
   ]
  },
  {
   "cell_type": "markdown",
   "metadata": {},
   "source": [
    "### Supprimer de la liste tous les pronoms https://la-conjugaison.nouvelobs.com/regles/grammaire/les-pronoms-possessifs-166.php , prépositions et adverbes https://www.francaisfacile.com/exercices/exercice-francais-2/exercice-francais-74247.php"
   ]
  },
  {
   "cell_type": "code",
   "execution_count": null,
   "metadata": {},
   "outputs": [],
   "source": [
    "# création d'une liste de pronoms, prépositions et adverbes\n"
   ]
  },
  {
   "cell_type": "markdown",
   "metadata": {},
   "source": [
    "### Certains mots de 'malistedemot' contiennent des apostrophes ' et de parenthèses ( ou ), imaginer un programme permettant d'enlever ces mots de la liste et de la purifier\n"
   ]
  },
  {
   "cell_type": "code",
   "execution_count": null,
   "metadata": {},
   "outputs": [],
   "source": []
  },
  {
   "cell_type": "markdown",
   "metadata": {},
   "source": [
    "### Supprimer les doublons grâce à la convertion de la liste en 'set' (collection d'objets uniques)"
   ]
  },
  {
   "cell_type": "code",
   "execution_count": null,
   "metadata": {},
   "outputs": [],
   "source": [
    "malistedemot = list(set(malistedemot))\n",
    "print(malistedemot)"
   ]
  },
  {
   "cell_type": "markdown",
   "metadata": {},
   "source": [
    "### Compter le nombre fois qu'apparait chaque mot de la liste \"malistedemot\"  dans le texte et afficher le mot et son score"
   ]
  },
  {
   "cell_type": "code",
   "execution_count": null,
   "metadata": {},
   "outputs": [],
   "source": [
    "\n",
    "    "
   ]
  },
  {
   "cell_type": "code",
   "execution_count": null,
   "metadata": {},
   "outputs": [],
   "source": []
  }
 ],
 "metadata": {
  "kernelspec": {
   "display_name": "Python 3",
   "language": "python",
   "name": "python3"
  },
  "language_info": {
   "codemirror_mode": {
    "name": "ipython",
    "version": 3
   },
   "file_extension": ".py",
   "mimetype": "text/x-python",
   "name": "python",
   "nbconvert_exporter": "python",
   "pygments_lexer": "ipython3",
   "version": "3.7.3"
  }
 },
 "nbformat": 4,
 "nbformat_minor": 2
}
