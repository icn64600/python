{
 "cells": [
  {
   "cell_type": "markdown",
   "metadata": {},
   "source": [
    "# Le traitement des chaines de caractères"
   ]
  },
  {
   "cell_type": "markdown",
   "metadata": {},
   "source": [
    "### Présentation des chaines de caractères"
   ]
  },
  {
   "cell_type": "raw",
   "metadata": {},
   "source": [
    "Les chaines de caractères sont des objets en langage Python qui représentent du texte."
   ]
  },
  {
   "cell_type": "code",
   "execution_count": null,
   "metadata": {},
   "outputs": [],
   "source": [
    "a=\"Ceci est une chaine de caractères\"\n",
    "b='1+1'\n",
    "c=1+1"
   ]
  },
  {
   "cell_type": "code",
   "execution_count": null,
   "metadata": {},
   "outputs": [],
   "source": [
    "print(type(a), type(b) , type(c))"
   ]
  },
  {
   "cell_type": "raw",
   "metadata": {},
   "source": [
    "a et b sont des chaines de caractères (de type 'str') alors que c est un entier(de type 'int')"
   ]
  },
  {
   "cell_type": "markdown",
   "metadata": {},
   "source": [
    "### Les traitements possibles sur les chaines de caractères"
   ]
  },
  {
   "cell_type": "markdown",
   "metadata": {},
   "source": [
    "#### len(texte) : Donne la longueur d'un texte."
   ]
  },
  {
   "cell_type": "code",
   "execution_count": null,
   "metadata": {},
   "outputs": [],
   "source": [
    "print(len(\"vive les SNT\"))"
   ]
  },
  {
   "cell_type": "markdown",
   "metadata": {},
   "source": [
    "#### texte[n] : Affiche le n-ième terme du texte. Attention : la première lettre commence à l'indice 0 !\n",
    "Petite astuce : Si on veut commencer par la fin : texte[-1] est la dernière lettre, texte[-2] l'avant dernière etc."
   ]
  },
  {
   "cell_type": "code",
   "execution_count": null,
   "metadata": {
    "scrolled": true
   },
   "outputs": [],
   "source": [
    "print(\"vive les SNT\"[0])\n",
    "print(\"vive les SNT\"[5])\n",
    "print(\"vive les SNT\"[-1])"
   ]
  },
  {
   "cell_type": "markdown",
   "metadata": {},
   "source": [
    "#### texte[debut : fin] : Affiche les caractères de texte compris entre l'indice debut et l'indice fin-1.\n",
    "Attention ici aux pièges : la première lettre du texte correspond toujours à l'indice 0 et on ne prend pas la lettre d'indice fin.\n",
    "Astuce : Si on veut commencer du début du texte, on met juste texte[:fin]. De même si on veut aller jusqu'au dernier caractère, on mettra texte[debut : ]"
   ]
  },
  {
   "cell_type": "code",
   "execution_count": null,
   "metadata": {},
   "outputs": [],
   "source": [
    "print(\"vive les SNT\"[5:8])\n",
    "print(\"vive les SNT\"[9:])\n",
    "print(\"vive les SNT\"[:4])"
   ]
  },
  {
   "cell_type": "markdown",
   "metadata": {},
   "source": [
    "#### texte1+texte2 : Concatène les deux textes c'est à dire les met bout à bout."
   ]
  },
  {
   "cell_type": "code",
   "execution_count": null,
   "metadata": {},
   "outputs": [],
   "source": [
    "texte1=\"Bientôt\"\n",
    "texte2=\" les vacances\"\n",
    "print(texte1+texte2)"
   ]
  },
  {
   "cell_type": "markdown",
   "metadata": {},
   "source": [
    "#### texte*k : Crée une chaine de caractère dans laquelle on répète le texte k fois d'affilée."
   ]
  },
  {
   "cell_type": "code",
   "execution_count": null,
   "metadata": {},
   "outputs": [],
   "source": [
    "texte = \"Monsieur, j'ai pas compris ! \"\n",
    "print(texte*5)"
   ]
  },
  {
   "cell_type": "markdown",
   "metadata": {},
   "source": [
    "#### str(objet) : Transforme (quand c'est possible) l'objet en texte pour pouvoir l'utiliser comme un texte. Très utile pour rajouter des variables dans un texte par exemple ou récupérer les chiffres d'un nombre."
   ]
  },
  {
   "cell_type": "code",
   "execution_count": null,
   "metadata": {},
   "outputs": [],
   "source": [
    "total = 1 + 1\n",
    "print(\"La valeur de l'addition est égale à \"+str(total))\n",
    "\n",
    "# On récupère le chiffre d'indice 4 c'est à dire le cinquième :\n",
    "n = 1789\n",
    "chiffre = str(n)[-2] \n",
    "print(\"le chiffre des dizaines est égal à \" + chiffre)\n",
    "print(int(chiffre)+1)"
   ]
  },
  {
   "cell_type": "raw",
   "metadata": {},
   "source": [
    "Dans -total- il y a le résultat du calcul. -str(total)- transforme ce résultat en chaine de caractère contenant ce résultat. On le rajoute ensuite à la chaine \"La valeur de l'addition est égale à \"\n",
    "Pour le deuxième exemple, on transforme le nombre -n- en chaine de caractère ce qui nous permet de récupérer les chiffres un à un sous forme de chaine de caractères. Si on veut les retransformer en nombre pour pouvoir faire des calculs par exemple, on pourra utiliser -int(chiffre)-."
   ]
  },
  {
   "cell_type": "markdown",
   "metadata": {},
   "source": [
    "#### sous_texte in texte : Renvoie True si la chaine de caractère sous_texte est dans texte et False sinon. A utiliser par exemple comme condition avec if par exemple."
   ]
  },
  {
   "cell_type": "code",
   "execution_count": null,
   "metadata": {},
   "outputs": [],
   "source": [
    "texte = \"La météo annonce des vagues de 8 mètres à Nazaré\"\n",
    "print(\"météo\" in texte)\n",
    "print(\"vagues\" in texte)\n",
    "print(\"champion\" in texte)"
   ]
  },
  {
   "cell_type": "raw",
   "metadata": {},
   "source": [
    "On teste ici si les sous-textes \"météo\", \"vagues\" et \"champion\" sont dans la chaine de caractères stockée dans texte.\n",
    "\n",
    "Voici un exemple d'utilisation dans une structure conditionnelle :  \n",
    " "
   ]
  },
  {
   "cell_type": "code",
   "execution_count": null,
   "metadata": {},
   "outputs": [],
   "source": [
    "lettre = \"n\"\n",
    "if lettre in \"aeiouy\":\n",
    "  print(lettre + \" est une voyelle\")\n",
    "else :\n",
    "  print(lettre + \" n'est pas une voyelle\")"
   ]
  },
  {
   "cell_type": "raw",
   "metadata": {},
   "source": [
    "Ce code permettrait par exemple de vérifier si la variable lettre est une voyelle ou pas.\n"
   ]
  },
  {
   "cell_type": "markdown",
   "metadata": {},
   "source": [
    "#### for caractere in texte : Nous permet de créer une boucle en énumérant les lettres de texte. Par exemple si je veux afficher les chiffres d'un texte :"
   ]
  },
  {
   "cell_type": "code",
   "execution_count": null,
   "metadata": {},
   "outputs": [],
   "source": [
    "texte=\"L'appartement est loué 650 euros 10 mois par an. \"\n",
    "for caractere in texte:\n",
    "    if caractere in \"0123456789\":\n",
    "        print(caractere)"
   ]
  },
  {
   "cell_type": "raw",
   "metadata": {},
   "source": [
    " La boucle for va prendre le premier caractère de texte et le placer dans la variable -caractere- c'est à dire que -caractere = 'L'-. Ensuite on teste si -caractere- fait partie des chiffres. Comme ce n'est pas le cas, et qu'il n'y a rien à faire dans ce cas, on revient à la boucle for avec la deuxième lettre cette fois et on recommence jusqu'au caractère \"6\" qui faire partie des chiffres donc on l'affiche etc."
   ]
  },
  {
   "cell_type": "markdown",
   "metadata": {},
   "source": [
    "## Fonctions plus spécifiques aux chaines de caractères"
   ]
  },
  {
   "cell_type": "raw",
   "metadata": {},
   "source": [
    "Ce sont des fonctions que l'on applique à une chaine de caractères et qui donc devront se mettre après la chaine de caractère à laquelle on l'applique en mettant un point entre."
   ]
  },
  {
   "cell_type": "markdown",
   "metadata": {},
   "source": [
    "### .find(sous_chaine) : Donne l'indice où se trouve pour la première fois sous_chaine"
   ]
  },
  {
   "cell_type": "code",
   "execution_count": null,
   "metadata": {},
   "outputs": [],
   "source": [
    "texte=\"Je crée une spider robot en langage Python. spider\"\n",
    "print(texte.find(\"spider\"))\n",
    "print(texte.find(\"langage\"))"
   ]
  },
  {
   "cell_type": "markdown",
   "metadata": {},
   "source": [
    "### .count(sous_chaine) : Donne le nombre de fois où sous_chaine se trouve dans la chaine à qui l'on applique la fonction."
   ]
  },
  {
   "cell_type": "code",
   "execution_count": null,
   "metadata": {},
   "outputs": [],
   "source": [
    "texte=\"Je créé une spider robot en langage Python. spider\"\n",
    "print(texte.count(\"spider\"))\n",
    "print(texte.count(\"e\"))"
   ]
  },
  {
   "cell_type": "markdown",
   "metadata": {},
   "source": [
    "### .replace(sous_chaine1, sous_chaine2) : Remplace toutes les sous_chaine1 par les sous_chaine2."
   ]
  },
  {
   "cell_type": "code",
   "execution_count": null,
   "metadata": {},
   "outputs": [],
   "source": [
    "texte= \"Une foncttttion ttttrès prattttique si vous répéttttez ttttrop les tttt\"\n",
    "print(texte.replace(\"tttt\",\"t\"))"
   ]
  },
  {
   "cell_type": "markdown",
   "metadata": {},
   "source": [
    "### .lower() Permet de mettre tout le texte en minuscule ."
   ]
  },
  {
   "cell_type": "code",
   "execution_count": null,
   "metadata": {},
   "outputs": [],
   "source": [
    "texte = \"Le Mot n'est pas le mot en Python\"\n",
    "texte.lower()"
   ]
  },
  {
   "cell_type": "markdown",
   "metadata": {},
   "source": [
    "### .upper() Permet de mettre tout le texte en majuscule ."
   ]
  },
  {
   "cell_type": "code",
   "execution_count": null,
   "metadata": {},
   "outputs": [],
   "source": [
    "texte = \"Le Mot n'est pas le mot en Python\"\n",
    "texte.upper()"
   ]
  },
  {
   "cell_type": "markdown",
   "metadata": {},
   "source": [
    "## Traiter un texte à l'aide d'une liste"
   ]
  },
  {
   "cell_type": "markdown",
   "metadata": {},
   "source": [
    "#### convertir la chaine de caractère en une liste nommé 'malistedemot' contenant chaque mot par la fonction texte.split()  "
   ]
  },
  {
   "cell_type": "code",
   "execution_count": null,
   "metadata": {},
   "outputs": [],
   "source": [
    "texteanalyse=\"Ceci est un texte que l'on veut analyser.\"\n",
    "malistedemot=texteanalyse.split()\n",
    "print(malistedemot)"
   ]
  },
  {
   "cell_type": "markdown",
   "metadata": {},
   "source": [
    "#### obtenir le nombre d'éléments d'une liste par la fonction len(liste) "
   ]
  },
  {
   "cell_type": "code",
   "execution_count": null,
   "metadata": {},
   "outputs": [],
   "source": [
    "len(malistedemot)"
   ]
  },
  {
   "cell_type": "markdown",
   "metadata": {},
   "source": [
    "#### vérifie si un élément appartient à la liste avec la fonction x in liste"
   ]
  },
  {
   "cell_type": "code",
   "execution_count": null,
   "metadata": {},
   "outputs": [],
   "source": [
    "'est' in malistedemot"
   ]
  },
  {
   "cell_type": "code",
   "execution_count": null,
   "metadata": {},
   "outputs": [],
   "source": [
    "if 'est' in malistedemot:\n",
    "    print(\"le mot 'est' est bien dans la liste malistedemot .\")"
   ]
  },
  {
   "cell_type": "markdown",
   "metadata": {},
   "source": [
    "#### ajouter le mot \"super\" à la liste \"malistedemot\" par la fonction liste.append(\"mot\")"
   ]
  },
  {
   "cell_type": "code",
   "execution_count": null,
   "metadata": {},
   "outputs": [],
   "source": [
    "malistedemot.append(\"super\")\n",
    "print(malistedemot)"
   ]
  },
  {
   "cell_type": "markdown",
   "metadata": {},
   "source": [
    "#### Remplace un élément de la liste \"malistedemot\" par son index avec la fonction liste[0]=\"nouveau mot\""
   ]
  },
  {
   "cell_type": "code",
   "execution_count": null,
   "metadata": {},
   "outputs": [],
   "source": [
    "malistedemot[0]=\"Magnifique\"\n",
    "print(malistedemot)"
   ]
  },
  {
   "cell_type": "markdown",
   "metadata": {},
   "source": [
    "#### Affiche le deuxième caractère d'un mot dans une liste  avec la fonction liste[0][1]"
   ]
  },
  {
   "cell_type": "code",
   "execution_count": null,
   "metadata": {},
   "outputs": [],
   "source": [
    "print(malistedemot[0][1])"
   ]
  },
  {
   "cell_type": "markdown",
   "metadata": {},
   "source": [
    "#### supprimer un élément de la liste \"malistedemot\" par son index avec la fonction liste.pop(index)"
   ]
  },
  {
   "cell_type": "code",
   "execution_count": null,
   "metadata": {},
   "outputs": [],
   "source": [
    "malistedemot.pop(0)\n",
    "print(malistedemot)"
   ]
  },
  {
   "cell_type": "markdown",
   "metadata": {},
   "source": [
    "## Réaliser un traitement automatisé sur une liste"
   ]
  },
  {
   "cell_type": "code",
   "execution_count": null,
   "metadata": {},
   "outputs": [],
   "source": [
    "#traitement automatique d'une liste qui enlève les deux premiers caractères d'un mot contenant une ' , ici c'est \"l'on\" que l'on va remplacer par \"on\"\n",
    "for i in range(len(malistedemot)):\n",
    "    if malistedemot[i][1]==\"'\":\n",
    "        malistedemot[i]= malistedemot[i][2:]\n",
    "print(malistedemot)\n",
    "    "
   ]
  }
 ],
 "metadata": {
  "kernelspec": {
   "display_name": "Python 3",
   "language": "python",
   "name": "python3"
  },
  "language_info": {
   "codemirror_mode": {
    "name": "ipython",
    "version": 3
   },
   "file_extension": ".py",
   "mimetype": "text/x-python",
   "name": "python",
   "nbconvert_exporter": "python",
   "pygments_lexer": "ipython3",
   "version": "3.7.3"
  }
 },
 "nbformat": 4,
 "nbformat_minor": 2
}
